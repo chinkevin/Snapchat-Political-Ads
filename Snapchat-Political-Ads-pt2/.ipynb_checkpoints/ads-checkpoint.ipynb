{
 "cells": [
  {
   "cell_type": "markdown",
   "metadata": {},
   "source": [
    "# Snapchat Political Ads\n",
    "* **See the main project notebook for instructions to be sure you satisfy the rubric!**\n",
    "* See Project 03 for information on the dataset.\n",
    "* A few example prediction questions to pursue are listed below. However, don't limit yourself to them!\n",
    "    * Predict the reach (number of views) of an ad.\n",
    "    * Predict how much was spent on an ad.\n",
    "    * Predict the target group of an ad. (For example, predict the target gender.)\n",
    "    * Predict the (type of) organization/advertiser behind an ad.\n",
    "\n",
    "Be careful to justify what information you would know at the \"time of prediction\" and train your model using only those features."
   ]
  },
  {
   "cell_type": "markdown",
   "metadata": {},
   "source": [
    "# Summary of Findings\n",
    "\n",
    "\n",
    "### Introduction\n",
    "We will try to predict the number of impressions made by an ad. This is because the number of impressions the only measure of success we have for each advertisement. Since the number of impressions is a numerical value, we will be using a regression model for this problem. Our goal is to create a model that best predicts the number of impressions an ad will receive based on its other data, so we will try to maximize our model's score (R<sup>2</sup>). This is a measure of how well our model predicts impressions.\n",
    "\n",
    "### Baseline Model\n",
    "For our baseline model, we dropped name/label that should have no effect on the number of impressions, and date columns that our model would have a hard time processing. We split the columns into two categories: categorical and numerical.  \n",
    "  \n",
    "We first imputed the categorical columns with string 'NULL's; this is justifiable because most of the null values were intentionally null, so they can be treated as their own category. We then one hot encoded these columns and used PCA (principle component analysis) to reduce the dimensionality of our data and remove excess columns that are highly correlated.  \n",
    "\n",
    "We then imputed the numerical columns with zeroes; this is justifiable because intentionally null values in numerical columns most commonly represent zeroes.  \n",
    "\n",
    "From looking at the data and its columns, we predicted that the number of impressions would be positively and linearly correlated with the amount spent on the advertisement. Hence, we chose to use a linear regression model.\n",
    "\n",
    "### Final Model\n",
    "Turn Segments into a boolean\n",
    "TODO\n",
    "\n",
    "### Fairness Evaluation\n",
    "TODO"
   ]
  },
  {
   "cell_type": "markdown",
   "metadata": {},
   "source": [
    "# Code"
   ]
  },
  {
   "cell_type": "code",
   "execution_count": 1,
   "metadata": {},
   "outputs": [],
   "source": [
    "import matplotlib.pyplot as plt\n",
    "import numpy as np\n",
    "import os\n",
    "import pandas as pd\n",
    "import seaborn as sns\n",
    "%matplotlib inline\n",
    "%config InlineBackend.figure_format = 'retina'  # Higher resolution figures"
   ]
  },
  {
   "cell_type": "code",
   "execution_count": 2,
   "metadata": {},
   "outputs": [],
   "source": [
    "from sklearn.decomposition import PCA\n",
    "from sklearn.linear_model import LinearRegression\n",
    "from sklearn.preprocessing import OneHotEncoder\n",
    "from sklearn.preprocessing import LabelEncoder\n",
    "from sklearn.preprocessing import OrdinalEncoder\n",
    "from sklearn.preprocessing import FunctionTransformer\n",
    "from sklearn.impute import SimpleImputer\n",
    "from sklearn.ensemble import RandomForestRegressor\n",
    "\n",
    "from sklearn.pipeline import Pipeline\n",
    "from sklearn.compose import ColumnTransformer\n",
    "from sklearn.model_selection import train_test_split\n",
    "from sklearn import metrics"
   ]
  },
  {
   "cell_type": "markdown",
   "metadata": {},
   "source": [
    "We will begin by performing minimal cleaning of the data:\n",
    "* Join the 2018 and 2019 data\n",
    "* Drop columns with irrelevant data (names, ids, labels, etc.)"
   ]
  },
  {
   "cell_type": "code",
   "execution_count": 3,
   "metadata": {},
   "outputs": [
    {
     "data": {
      "text/html": [
       "<div>\n",
       "<style scoped>\n",
       "    .dataframe tbody tr th:only-of-type {\n",
       "        vertical-align: middle;\n",
       "    }\n",
       "\n",
       "    .dataframe tbody tr th {\n",
       "        vertical-align: top;\n",
       "    }\n",
       "\n",
       "    .dataframe thead th {\n",
       "        text-align: right;\n",
       "    }\n",
       "</style>\n",
       "<table border=\"1\" class=\"dataframe\">\n",
       "  <thead>\n",
       "    <tr style=\"text-align: right;\">\n",
       "      <th></th>\n",
       "      <th>Spend</th>\n",
       "      <th>Impressions</th>\n",
       "      <th>BillingAddress</th>\n",
       "      <th>CandidateBallotInformation</th>\n",
       "      <th>Gender</th>\n",
       "      <th>AgeBracket</th>\n",
       "      <th>CountryCode</th>\n",
       "      <th>RegionID</th>\n",
       "      <th>ElectoralDistrictID</th>\n",
       "      <th>LatLongRad</th>\n",
       "      <th>MetroID</th>\n",
       "      <th>Interests</th>\n",
       "      <th>OsType</th>\n",
       "      <th>Segments</th>\n",
       "      <th>LocationType</th>\n",
       "      <th>Language</th>\n",
       "      <th>AdvancedDemographics</th>\n",
       "      <th>Targeting Connection Type</th>\n",
       "      <th>Targeting Carrier (ISP)</th>\n",
       "      <th>Targeting Geo - Postal Code</th>\n",
       "    </tr>\n",
       "  </thead>\n",
       "  <tbody>\n",
       "    <tr>\n",
       "      <th>0</th>\n",
       "      <td>1044</td>\n",
       "      <td>137185</td>\n",
       "      <td>3050 K Street,Washington,20007,US</td>\n",
       "      <td>NaN</td>\n",
       "      <td>NaN</td>\n",
       "      <td>35++</td>\n",
       "      <td>united states</td>\n",
       "      <td>Illinois</td>\n",
       "      <td>NaN</td>\n",
       "      <td>NaN</td>\n",
       "      <td>NaN</td>\n",
       "      <td>NaN</td>\n",
       "      <td>NaN</td>\n",
       "      <td>Provided by Advertiser</td>\n",
       "      <td>NaN</td>\n",
       "      <td>NaN</td>\n",
       "      <td>NaN</td>\n",
       "      <td>NaN</td>\n",
       "      <td>NaN</td>\n",
       "      <td>NaN</td>\n",
       "    </tr>\n",
       "    <tr>\n",
       "      <th>1</th>\n",
       "      <td>279</td>\n",
       "      <td>94161</td>\n",
       "      <td>1730 Rhode Island Ave NW,Washington,20036,US</td>\n",
       "      <td>NaN</td>\n",
       "      <td>NaN</td>\n",
       "      <td>18+</td>\n",
       "      <td>united states</td>\n",
       "      <td>California</td>\n",
       "      <td>NaN</td>\n",
       "      <td>NaN</td>\n",
       "      <td>NaN</td>\n",
       "      <td>Arts &amp; Culture Mavens,Chat Fiction Enthusiasts...</td>\n",
       "      <td>NaN</td>\n",
       "      <td>Provided by Advertiser</td>\n",
       "      <td>NaN</td>\n",
       "      <td>NaN</td>\n",
       "      <td>NaN</td>\n",
       "      <td>NaN</td>\n",
       "      <td>NaN</td>\n",
       "      <td>NaN</td>\n",
       "    </tr>\n",
       "    <tr>\n",
       "      <th>2</th>\n",
       "      <td>6743</td>\n",
       "      <td>3149886</td>\n",
       "      <td>US</td>\n",
       "      <td>NaN</td>\n",
       "      <td>NaN</td>\n",
       "      <td>NaN</td>\n",
       "      <td>united states</td>\n",
       "      <td>NaN</td>\n",
       "      <td>California 25th District</td>\n",
       "      <td>NaN</td>\n",
       "      <td>NaN</td>\n",
       "      <td>TV Live Event Viewers (The Academy Awards),TV ...</td>\n",
       "      <td>NaN</td>\n",
       "      <td>Provided by Advertiser</td>\n",
       "      <td>NaN</td>\n",
       "      <td>NaN</td>\n",
       "      <td>NaN</td>\n",
       "      <td>NaN</td>\n",
       "      <td>NaN</td>\n",
       "      <td>NaN</td>\n",
       "    </tr>\n",
       "    <tr>\n",
       "      <th>3</th>\n",
       "      <td>3698</td>\n",
       "      <td>573475</td>\n",
       "      <td>435 E. Main,Greenwood,46143,US</td>\n",
       "      <td>NaN</td>\n",
       "      <td>NaN</td>\n",
       "      <td>18+</td>\n",
       "      <td>united states</td>\n",
       "      <td>NaN</td>\n",
       "      <td>NaN</td>\n",
       "      <td>NaN</td>\n",
       "      <td>NaN</td>\n",
       "      <td>NaN</td>\n",
       "      <td>NaN</td>\n",
       "      <td>Provided by Advertiser</td>\n",
       "      <td>NaN</td>\n",
       "      <td>NaN</td>\n",
       "      <td>NaN</td>\n",
       "      <td>NaN</td>\n",
       "      <td>NaN</td>\n",
       "      <td>92801,92802,92803,92804,92805,92806,92807,9280...</td>\n",
       "    </tr>\n",
       "    <tr>\n",
       "      <th>4</th>\n",
       "      <td>445</td>\n",
       "      <td>232906</td>\n",
       "      <td>17-25 New Inn Yard,London,EC2A 3EA,GB</td>\n",
       "      <td>NaN</td>\n",
       "      <td>NaN</td>\n",
       "      <td>25+</td>\n",
       "      <td>united kingdom</td>\n",
       "      <td>NaN</td>\n",
       "      <td>NaN</td>\n",
       "      <td>NaN</td>\n",
       "      <td>NaN</td>\n",
       "      <td>NaN</td>\n",
       "      <td>NaN</td>\n",
       "      <td>Provided by Advertiser</td>\n",
       "      <td>NaN</td>\n",
       "      <td>NaN</td>\n",
       "      <td>NaN</td>\n",
       "      <td>NaN</td>\n",
       "      <td>NaN</td>\n",
       "      <td>NaN</td>\n",
       "    </tr>\n",
       "  </tbody>\n",
       "</table>\n",
       "</div>"
      ],
      "text/plain": [
       "   Spend  Impressions                                BillingAddress  \\\n",
       "0   1044       137185             3050 K Street,Washington,20007,US   \n",
       "1    279        94161  1730 Rhode Island Ave NW,Washington,20036,US   \n",
       "2   6743      3149886                                            US   \n",
       "3   3698       573475                435 E. Main,Greenwood,46143,US   \n",
       "4    445       232906         17-25 New Inn Yard,London,EC2A 3EA,GB   \n",
       "\n",
       "  CandidateBallotInformation Gender AgeBracket     CountryCode    RegionID  \\\n",
       "0                        NaN    NaN       35++   united states    Illinois   \n",
       "1                        NaN    NaN        18+   united states  California   \n",
       "2                        NaN    NaN        NaN   united states         NaN   \n",
       "3                        NaN    NaN        18+   united states         NaN   \n",
       "4                        NaN    NaN        25+  united kingdom         NaN   \n",
       "\n",
       "        ElectoralDistrictID  LatLongRad MetroID  \\\n",
       "0                       NaN         NaN     NaN   \n",
       "1                       NaN         NaN     NaN   \n",
       "2  California 25th District         NaN     NaN   \n",
       "3                       NaN         NaN     NaN   \n",
       "4                       NaN         NaN     NaN   \n",
       "\n",
       "                                           Interests OsType  \\\n",
       "0                                                NaN    NaN   \n",
       "1  Arts & Culture Mavens,Chat Fiction Enthusiasts...    NaN   \n",
       "2  TV Live Event Viewers (The Academy Awards),TV ...    NaN   \n",
       "3                                                NaN    NaN   \n",
       "4                                                NaN    NaN   \n",
       "\n",
       "                 Segments LocationType Language AdvancedDemographics  \\\n",
       "0  Provided by Advertiser          NaN      NaN                  NaN   \n",
       "1  Provided by Advertiser          NaN      NaN                  NaN   \n",
       "2  Provided by Advertiser          NaN      NaN                  NaN   \n",
       "3  Provided by Advertiser          NaN      NaN                  NaN   \n",
       "4  Provided by Advertiser          NaN      NaN                  NaN   \n",
       "\n",
       "   Targeting Connection Type  Targeting Carrier (ISP)  \\\n",
       "0                        NaN                      NaN   \n",
       "1                        NaN                      NaN   \n",
       "2                        NaN                      NaN   \n",
       "3                        NaN                      NaN   \n",
       "4                        NaN                      NaN   \n",
       "\n",
       "                         Targeting Geo - Postal Code  \n",
       "0                                                NaN  \n",
       "1                                                NaN  \n",
       "2                                                NaN  \n",
       "3  92801,92802,92803,92804,92805,92806,92807,9280...  \n",
       "4                                                NaN  "
      ]
     },
     "execution_count": 3,
     "metadata": {},
     "output_type": "execute_result"
    }
   ],
   "source": [
    "# load the csv files for 2018 and 2019\n",
    "fp_18 = os.path.join('data', 'ads_2018.csv')\n",
    "fp_19 = os.path.join('data', 'ads_2019.csv')\n",
    "\n",
    "rel_cols = ['Spend', 'Impressions']\n",
    "\n",
    "\n",
    "# read files into dataframes\n",
    "df_18 = pd.read_csv(fp_18)#, #usecols=rel_cols)\n",
    "df_19 = pd.read_csv(fp_19)#, #usecols=rel_cols)\n",
    "ad_data = pd.concat([df_18, df_19], ignore_index=True)\n",
    "\n",
    "\n",
    "# if planning to use dates, convert to datetime objects\n",
    "\n",
    "# convert StartDate and EndDate to date time objects (UTC)\n",
    "# ad_data['StartDate'] = pd.to_datetime(ad_data['StartDate'])\n",
    "# ad_data['EndDate'] = pd.to_datetime(ad_data['EndDate'])\n",
    "\n",
    "# drop identification/name columns: these should have no effect on the number of impressions\n",
    "# timezones will not be used in our analysis\n",
    "ad_data = ad_data.drop(['ADID', 'CreativeUrl', 'OrganizationName', 'PayingAdvertiserName', 'CreativeProperties', 'StartDate', 'EndDate'], axis=1)\n",
    "orig_data = ad_data.copy()\n",
    "ad_data.head()"
   ]
  },
  {
   "cell_type": "markdown",
   "metadata": {},
   "source": [
    "### Baseline Model"
   ]
  },
  {
   "cell_type": "code",
   "execution_count": 5,
   "metadata": {},
   "outputs": [
    {
     "name": "stdout",
     "output_type": "stream",
     "text": [
      "categorical columns:\n",
      " ['BillingAddress' 'CandidateBallotInformation' 'Gender' 'AgeBracket'\n",
      " 'CountryCode' 'RegionID' 'ElectoralDistrictID' 'MetroID' 'Interests'\n",
      " 'OsType' 'Segments' 'LocationType' 'Language' 'AdvancedDemographics'\n",
      " 'Targeting Geo - Postal Code'] \n",
      "\n",
      "numerical columns:\n",
      " ['Spend' 'LatLongRad' 'Targeting Connection Type'\n",
      " 'Targeting Carrier (ISP)']\n"
     ]
    }
   ],
   "source": [
    "# drop the target column; drop datetime objects\n",
    "X = ad_data.drop(['Impressions'], axis=1)\n",
    "y = ad_data.Impressions\n",
    "\n",
    "types = X.dtypes\n",
    "cat_cols = types.loc[types == np.object].index\n",
    "num_cols = types.loc[types != np.object].index\n",
    "\n",
    "# display \n",
    "print('categorical columns:\\n', cat_cols.values, '\\n')\n",
    "print('numerical columns:\\n',num_cols.values)"
   ]
  },
  {
   "cell_type": "code",
   "execution_count": 6,
   "metadata": {},
   "outputs": [],
   "source": [
    "cats = Pipeline([\n",
    "    ('impute', SimpleImputer(strategy='constant', fill_value='NULL')),\n",
    "    ('ohe', OneHotEncoder(handle_unknown='ignore', sparse=False)),\n",
    "    ('pca', PCA(svd_solver='full', n_components=0.99))\n",
    "])\n",
    "\n",
    "ct = ColumnTransformer([\n",
    "    ('cat_cols', cats, cat_cols),\n",
    "    ('num_cols', SimpleImputer(strategy='constant', fill_value=0), num_cols)\n",
    "])\n",
    "\n",
    "pl = Pipeline([('feats', ct), ('reg', LinearRegression())])\n",
    "# pl = Pipeline([('feats', ct), ('reg', RandomForestRegressor(n_estimators=100))])"
   ]
  },
  {
   "cell_type": "code",
   "execution_count": 7,
   "metadata": {},
   "outputs": [
    {
     "data": {
      "text/plain": [
       "0.6182396490316843"
      ]
     },
     "execution_count": 7,
     "metadata": {},
     "output_type": "execute_result"
    }
   ],
   "source": [
    "# separate the data into training (70%) and testing (30%) sets\n",
    "X_tr, X_ts, y_tr, y_ts = train_test_split(X, y, test_size=0.3)\n",
    "\n",
    "# fit the model to the training set\n",
    "pl.fit(X_tr, y_tr)\n",
    "\n",
    "# calculate the score using the test set\n",
    "pl.score(X_ts, y_ts)"
   ]
  },
  {
   "cell_type": "code",
   "execution_count": 8,
   "metadata": {},
   "outputs": [
    {
     "data": {
      "text/plain": [
       "1822852.8233084541"
      ]
     },
     "execution_count": 8,
     "metadata": {},
     "output_type": "execute_result"
    }
   ],
   "source": [
    "# predicted values using the model\n",
    "preds = pl.predict(X_ts)\n",
    "\n",
    "# calculate the root mean square error\n",
    "np.sqrt(np.mean((preds - y_ts)**2))"
   ]
  },
  {
   "cell_type": "code",
   "execution_count": 11,
   "metadata": {},
   "outputs": [],
   "source": [
    "output = []\n",
    "for _ in range(100):\n",
    "    # \n",
    "    X_tr, X_ts, y_tr, y_ts = train_test_split(X, y, test_size=0.3)\n",
    "\n",
    "    pl.fit(X_tr, y_tr)\n",
    "    output.append(pl.score(X_ts, y_ts))"
   ]
  },
  {
   "cell_type": "code",
   "execution_count": null,
   "metadata": {},
   "outputs": [],
   "source": [
    "scores = pd.Series(output)\n",
    "scores.plot(kind='hist', title='positive scores in model builds')"
   ]
  },
  {
   "cell_type": "markdown",
   "metadata": {},
   "source": [
    "The existence of negative outliers makes this histogram rather useless, so we will re-plot only the positive scores. Since there are negative outliers, we know that the mean would be skewed to the left, so to measure center, we will use the median."
   ]
  },
  {
   "cell_type": "code",
   "execution_count": 16,
   "metadata": {},
   "outputs": [
    {
     "name": "stdout",
     "output_type": "stream",
     "text": [
      "median score: 0.5240352197578249\n"
     ]
    },
    {
     "data": {
      "image/png": "[encoded data removed]",
      "text/plain": [
       "<Figure size 432x288 with 1 Axes>"
      ]
     },
     "metadata": {
      "image/png": {
       "height": 263,
       "width": 384
      }
     },
     "output_type": "display_data"
    }
   ],
   "source": [
    "scores[scores>0].plot(kind='hist', title='positive scores in model builds')\n",
    "print('median score:', scores.median())"
   ]
  },
  {
   "cell_type": "markdown",
   "metadata": {},
   "source": [
    "For our baseline model, in 100 train test splits, we got a median model score of about 0.52"
   ]
  },
  {
   "cell_type": "markdown",
   "metadata": {},
   "source": [
    "### Exploratory Data Analysis\n",
    "\n",
    "Plot the number of impressions by spending, separating by color whether or not certain specifications were made."
   ]
  },
  {
   "cell_type": "code",
   "execution_count": 6,
   "metadata": {},
   "outputs": [
    {
     "name": "stdout",
     "output_type": "stream",
     "text": [
      "<class 'pandas.core.frame.DataFrame'>\n",
      "RangeIndex: 3303 entries, 0 to 3302\n",
      "Data columns (total 20 columns):\n",
      "Spend                          3303 non-null int64\n",
      "Impressions                    3303 non-null int64\n",
      "BillingAddress                 3303 non-null object\n",
      "CandidateBallotInformation     225 non-null object\n",
      "Gender                         322 non-null object\n",
      "AgeBracket                     3029 non-null object\n",
      "CountryCode                    3303 non-null object\n",
      "RegionID                       1013 non-null object\n",
      "ElectoralDistrictID            65 non-null object\n",
      "LatLongRad                     0 non-null float64\n",
      "MetroID                        180 non-null object\n",
      "Interests                      786 non-null object\n",
      "OsType                         21 non-null object\n",
      "Segments                       2189 non-null object\n",
      "LocationType                   18 non-null object\n",
      "Language                       914 non-null object\n",
      "AdvancedDemographics           96 non-null object\n",
      "Targeting Connection Type      0 non-null float64\n",
      "Targeting Carrier (ISP)        0 non-null float64\n",
      "Targeting Geo - Postal Code    399 non-null object\n",
      "dtypes: float64(3), int64(2), object(15)\n",
      "memory usage: 516.2+ KB\n"
     ]
    }
   ],
   "source": [
    "# examine the data types\n",
    "ad_data.info()"
   ]
  },
  {
   "cell_type": "code",
   "execution_count": 7,
   "metadata": {},
   "outputs": [
    {
     "data": {
      "text/plain": [
       "Spend                          0.000000\n",
       "Impressions                    0.000000\n",
       "BillingAddress                 0.000000\n",
       "CandidateBallotInformation     0.931880\n",
       "Gender                         0.902513\n",
       "AgeBracket                     0.082955\n",
       "CountryCode                    0.000000\n",
       "RegionID                       0.693309\n",
       "ElectoralDistrictID            0.980321\n",
       "LatLongRad                     1.000000\n",
       "MetroID                        0.945504\n",
       "Interests                      0.762035\n",
       "OsType                         0.993642\n",
       "Segments                       0.337269\n",
       "LocationType                   0.994550\n",
       "Language                       0.723282\n",
       "AdvancedDemographics           0.970936\n",
       "Targeting Connection Type      1.000000\n",
       "Targeting Carrier (ISP)        1.000000\n",
       "Targeting Geo - Postal Code    0.879201\n",
       "dtype: float64"
      ]
     },
     "execution_count": 7,
     "metadata": {},
     "output_type": "execute_result"
    }
   ],
   "source": [
    "# examine proportion of null data in each column\n",
    "ad_data.isna().mean()"
   ]
  },
  {
   "cell_type": "markdown",
   "metadata": {},
   "source": [
    "There are a few columns that only null values. We will remove these columns. We also see that many columns are about geographical location:\n",
    "* BillingAddress: no null values, but fairly unique (there are 199 different addresses)\n",
    "* CountryCode: no null values\n",
    "* RegionID: some null values\n",
    "* ElectoralDistrictID: very high null proportion\n",
    "* MetroID: very high null proportion\n",
    "* LocationType: very high null proportion\n",
    "* Targeting Geo - Postal Code: high null proportion  \n",
    "Since CountryCode has no null values, we will use only CountryCode for geographical data.\n",
    "All of these columns are being removed to improve efficiency and reduce the effects of overfitting."
   ]
  },
  {
   "cell_type": "code",
   "execution_count": 4,
   "metadata": {},
   "outputs": [
    {
     "data": {
      "text/plain": [
       "Index(['Spend', 'Impressions', 'BillingAddress', 'CandidateBallotInformation',\n",
       "       'Gender', 'AgeBracket', 'CountryCode', 'RegionID',\n",
       "       'ElectoralDistrictID', 'MetroID', 'Interests', 'OsType', 'Segments',\n",
       "       'LocationType', 'Language', 'AdvancedDemographics',\n",
       "       'Targeting Geo - Postal Code'],\n",
       "      dtype='object')"
      ]
     },
     "execution_count": 4,
     "metadata": {},
     "output_type": "execute_result"
    }
   ],
   "source": [
    "# drop columns with only null values\n",
    "ad_data = ad_data.drop(\n",
    "    ad_data.columns[ad_data.isna().mean() == 1]\n",
    "    , axis=1)\n",
    "ad_data.columns"
   ]
  },
  {
   "cell_type": "code",
   "execution_count": 5,
   "metadata": {},
   "outputs": [],
   "source": [
    "# drop the remaining geographical data columns other than CountryCode\n",
    "ad_data = ad_data.drop(['BillingAddress', 'RegionID', 'Targeting Geo - Postal Code'], axis=1)"
   ]
  },
  {
   "cell_type": "markdown",
   "metadata": {},
   "source": [
    "We will now examine the 'Segments' column."
   ]
  },
  {
   "cell_type": "code",
   "execution_count": 6,
   "metadata": {},
   "outputs": [
    {
     "data": {
      "text/plain": [
       "Provided by Advertiser    2189\n",
       "Name: Segments, dtype: int64"
      ]
     },
     "execution_count": 6,
     "metadata": {},
     "output_type": "execute_result"
    }
   ],
   "source": [
    "ad_data.Segments.value_counts()"
   ]
  },
  {
   "cell_type": "markdown",
   "metadata": {},
   "source": [
    "We see that segments only has two types of entries: 'Provided by Advertiser' and NaN. Thus, it makes more sense to treat 'Segments' as a boolean column that is:\n",
    "* True, if the advertiser did not provide user specific data (NaN)\n",
    "* False, if the advertiser provided user specific data ('Provided by Advertiser')\n",
    "\n",
    "\n",
    "We will now see the effect providing a segment has on the number of impressions."
   ]
  },
  {
   "cell_type": "code",
   "execution_count": 7,
   "metadata": {},
   "outputs": [
    {
     "data": {
      "text/html": [
       "<div>\n",
       "<style scoped>\n",
       "    .dataframe tbody tr th:only-of-type {\n",
       "        vertical-align: middle;\n",
       "    }\n",
       "\n",
       "    .dataframe tbody tr th {\n",
       "        vertical-align: top;\n",
       "    }\n",
       "\n",
       "    .dataframe thead th {\n",
       "        text-align: right;\n",
       "    }\n",
       "</style>\n",
       "<table border=\"1\" class=\"dataframe\">\n",
       "  <thead>\n",
       "    <tr style=\"text-align: right;\">\n",
       "      <th></th>\n",
       "      <th>Impressions</th>\n",
       "    </tr>\n",
       "    <tr>\n",
       "      <th>Segments</th>\n",
       "      <th></th>\n",
       "    </tr>\n",
       "  </thead>\n",
       "  <tbody>\n",
       "    <tr>\n",
       "      <th>False</th>\n",
       "      <td>772037.610324</td>\n",
       "    </tr>\n",
       "    <tr>\n",
       "      <th>True</th>\n",
       "      <td>472416.135548</td>\n",
       "    </tr>\n",
       "  </tbody>\n",
       "</table>\n",
       "</div>"
      ],
      "text/plain": [
       "            Impressions\n",
       "Segments               \n",
       "False     772037.610324\n",
       "True      472416.135548"
      ]
     },
     "execution_count": 7,
     "metadata": {},
     "output_type": "execute_result"
    }
   ],
   "source": [
    "# select impressions and segments\n",
    "segments = ad_data[['Impressions', 'Segments']].copy()\n",
    "\n",
    "# convert segments into boolean column\n",
    "segments['Segments'] = segments['Segments'].isna()\n",
    "\n",
    "segments.groupby('Segments').mean()"
   ]
  },
  {
   "cell_type": "code",
   "execution_count": 8,
   "metadata": {},
   "outputs": [
    {
     "data": {
      "text/html": [
       "<div>\n",
       "<style scoped>\n",
       "    .dataframe tbody tr th:only-of-type {\n",
       "        vertical-align: middle;\n",
       "    }\n",
       "\n",
       "    .dataframe tbody tr th {\n",
       "        vertical-align: top;\n",
       "    }\n",
       "\n",
       "    .dataframe thead th {\n",
       "        text-align: right;\n",
       "    }\n",
       "</style>\n",
       "<table border=\"1\" class=\"dataframe\">\n",
       "  <thead>\n",
       "    <tr style=\"text-align: right;\">\n",
       "      <th></th>\n",
       "      <th>Impressions</th>\n",
       "    </tr>\n",
       "    <tr>\n",
       "      <th>Segments</th>\n",
       "      <th></th>\n",
       "    </tr>\n",
       "  </thead>\n",
       "  <tbody>\n",
       "    <tr>\n",
       "      <th>False</th>\n",
       "      <td>2189</td>\n",
       "    </tr>\n",
       "    <tr>\n",
       "      <th>True</th>\n",
       "      <td>1114</td>\n",
       "    </tr>\n",
       "  </tbody>\n",
       "</table>\n",
       "</div>"
      ],
      "text/plain": [
       "          Impressions\n",
       "Segments             \n",
       "False            2189\n",
       "True             1114"
      ]
     },
     "execution_count": 8,
     "metadata": {},
     "output_type": "execute_result"
    }
   ],
   "source": [
    "segments.groupby('Segments').count()"
   ]
  },
  {
   "cell_type": "markdown",
   "metadata": {},
   "source": [
    "It seems as if specifying a segment (False) corresponds to a higher impression count, however, there are likely other confounding variables affecting this.\n",
    "We will now examine other columns affects on impressions in a similar manner."
   ]
  },
  {
   "cell_type": "code",
   "execution_count": 9,
   "metadata": {},
   "outputs": [
    {
     "data": {
      "text/plain": [
       "<matplotlib.axes._subplots.AxesSubplot at 0x256f91c5940>"
      ]
     },
     "execution_count": 9,
     "metadata": {},
     "output_type": "execute_result"
    },
    {
     "data": {
      "image/png": "[encoded data removed]",
      "text/plain": [
       "<Figure size 432x288 with 1 Axes>"
      ]
     },
     "metadata": {
      "image/png": {
       "height": 373,
       "width": 402
      }
     },
     "output_type": "display_data"
    },
    {
     "data": {
      "image/png": "[encoded data removed]",
      "text/plain": [
       "<Figure size 432x288 with 1 Axes>"
      ]
     },
     "metadata": {
      "image/png": {
       "height": 293,
       "width": 396
      }
     },
     "output_type": "display_data"
    }
   ],
   "source": [
    "# CountryCode\n",
    "ad_data[['Impressions', 'CountryCode']].groupby('CountryCode').mean().plot(kind='bar', title='CountryCode')#.min()\n",
    "\n",
    "# Interests\n",
    "# since interests are also rather unique, and a large portion of the data is null, \n",
    "# we will convert interests into a boolean column:\n",
    "# True if null, False if interests were provided\n",
    "interests = ad_data[['Impressions', 'Interests']].copy()\n",
    "# convert segments into boolean column\n",
    "interests['Interests'] = interests['Interests'].isna()\n",
    "interests.groupby('Interests').mean().plot(kind='bar', title='Interests')"
   ]
  },
  {
   "cell_type": "markdown",
   "metadata": {},
   "source": [
    "We want a way to convert AgeBracket into a numerical value. We can do this by keeping only the lower bound of the AgeBracket data."
   ]
  },
  {
   "cell_type": "code",
   "execution_count": 10,
   "metadata": {},
   "outputs": [
    {
     "data": {
      "text/plain": [
       "0    35\n",
       "1    18\n",
       "2     0\n",
       "3    18\n",
       "4    25\n",
       "Name: AgeBracket, dtype: int32"
      ]
     },
     "execution_count": 10,
     "metadata": {},
     "output_type": "execute_result"
    }
   ],
   "source": [
    "# Using regex, remove all symbols and any successive digits\n",
    "ad_data.AgeBracket = (\n",
    "    ad_data.AgeBracket.str.replace('[^\\d]+\\d*', '')\n",
    "    # impute null values with 0, because these ads are agnostic to age\n",
    "    .fillna(0)\n",
    "    # convert data type from object to integer\n",
    "    .astype('int32')\n",
    ")\n",
    "\n",
    "ad_data.AgeBracket.head()"
   ]
  },
  {
   "cell_type": "code",
   "execution_count": 11,
   "metadata": {},
   "outputs": [
    {
     "data": {
      "text/plain": [
       "<matplotlib.axes._subplots.AxesSubplot at 0x256f9495cc0>"
      ]
     },
     "execution_count": 11,
     "metadata": {},
     "output_type": "execute_result"
    },
    {
     "data": {
      "image/png": "[encoded data removed]",
      "text/plain": [
       "<Figure size 432x288 with 1 Axes>"
      ]
     },
     "metadata": {
      "image/png": {
       "height": 277,
       "width": 387
      }
     },
     "output_type": "display_data"
    }
   ],
   "source": [
    "# AgeBracket\n",
    "ad_data.plot(kind='scatter', x='AgeBracket', y='Impressions', title='AgeBracket')"
   ]
  },
  {
   "cell_type": "markdown",
   "metadata": {},
   "source": [
    "We will now look at the language category."
   ]
  },
  {
   "cell_type": "code",
   "execution_count": 12,
   "metadata": {},
   "outputs": [
    {
     "data": {
      "text/plain": [
       "en       578\n",
       "fr        96\n",
       "nb        62\n",
       "nl        45\n",
       "da        33\n",
       "de        24\n",
       "en,es     23\n",
       "es        16\n",
       "ar        11\n",
       "nb,en      6\n",
       "nl,en      5\n",
       "sv         4\n",
       "fi         4\n",
       "ar,en      3\n",
       "de,en      2\n",
       "en,de      1\n",
       "es,en      1\n",
       "Name: Language, dtype: int64"
      ]
     },
     "execution_count": 12,
     "metadata": {},
     "output_type": "execute_result"
    }
   ],
   "source": [
    "ad_data['Language'].value_counts()"
   ]
  },
  {
   "cell_type": "markdown",
   "metadata": {},
   "source": [
    "We see that the most common language is English by far, and that there are some languages that are very rarely specified. We can combine the languages that appear less than 50 times under 'other.'"
   ]
  },
  {
   "cell_type": "code",
   "execution_count": 13,
   "metadata": {},
   "outputs": [],
   "source": [
    "# get value counts\n",
    "vc = ad_data['Language'].value_counts()\n",
    "# replace entries that occur < 50 times with 'other'\n",
    "ad_data.Language = ad_data.Language.replace(vc[vc < 50].index, 'other')\n",
    "\n",
    "# replace null entries with 'any'\n",
    "ad_data.Language = ad_data.Language.fillna('any')"
   ]
  },
  {
   "cell_type": "code",
   "execution_count": 14,
   "metadata": {},
   "outputs": [
    {
     "data": {
      "text/plain": [
       "<matplotlib.axes._subplots.AxesSubplot at 0x256f9488940>"
      ]
     },
     "execution_count": 14,
     "metadata": {},
     "output_type": "execute_result"
    },
    {
     "data": {
      "image/png": "[encoded data removed]",
      "text/plain": [
       "<Figure size 432x288 with 1 Axes>"
      ]
     },
     "metadata": {
      "image/png": {
       "height": 294,
       "width": 402
      }
     },
     "output_type": "display_data"
    }
   ],
   "source": [
    "ad_data[['Impressions', 'Language']].groupby('Language').mean().plot(kind='bar', title='Language')"
   ]
  },
  {
   "cell_type": "code",
   "execution_count": null,
   "metadata": {},
   "outputs": [],
   "source": []
  },
  {
   "cell_type": "code",
   "execution_count": 15,
   "metadata": {},
   "outputs": [],
   "source": [
    "# update Interests and Segments to be boolean columns\n",
    "ad_data.Segments = segments.Segments\n",
    "ad_data.Interests = interests.Interests"
   ]
  },
  {
   "cell_type": "code",
   "execution_count": 16,
   "metadata": {},
   "outputs": [
    {
     "data": {
      "text/html": [
       "<div>\n",
       "<style scoped>\n",
       "    .dataframe tbody tr th:only-of-type {\n",
       "        vertical-align: middle;\n",
       "    }\n",
       "\n",
       "    .dataframe tbody tr th {\n",
       "        vertical-align: top;\n",
       "    }\n",
       "\n",
       "    .dataframe thead th {\n",
       "        text-align: right;\n",
       "    }\n",
       "</style>\n",
       "<table border=\"1\" class=\"dataframe\">\n",
       "  <thead>\n",
       "    <tr style=\"text-align: right;\">\n",
       "      <th></th>\n",
       "      <th>Spend</th>\n",
       "      <th>Impressions</th>\n",
       "      <th>CandidateBallotInformation</th>\n",
       "      <th>Gender</th>\n",
       "      <th>AgeBracket</th>\n",
       "      <th>CountryCode</th>\n",
       "      <th>ElectoralDistrictID</th>\n",
       "      <th>MetroID</th>\n",
       "      <th>Interests</th>\n",
       "      <th>OsType</th>\n",
       "      <th>Segments</th>\n",
       "      <th>LocationType</th>\n",
       "      <th>Language</th>\n",
       "      <th>AdvancedDemographics</th>\n",
       "    </tr>\n",
       "  </thead>\n",
       "  <tbody>\n",
       "    <tr>\n",
       "      <th>0</th>\n",
       "      <td>1044</td>\n",
       "      <td>137185</td>\n",
       "      <td>NaN</td>\n",
       "      <td>NaN</td>\n",
       "      <td>35</td>\n",
       "      <td>united states</td>\n",
       "      <td>NaN</td>\n",
       "      <td>NaN</td>\n",
       "      <td>True</td>\n",
       "      <td>NaN</td>\n",
       "      <td>False</td>\n",
       "      <td>NaN</td>\n",
       "      <td>any</td>\n",
       "      <td>NaN</td>\n",
       "    </tr>\n",
       "    <tr>\n",
       "      <th>1</th>\n",
       "      <td>279</td>\n",
       "      <td>94161</td>\n",
       "      <td>NaN</td>\n",
       "      <td>NaN</td>\n",
       "      <td>18</td>\n",
       "      <td>united states</td>\n",
       "      <td>NaN</td>\n",
       "      <td>NaN</td>\n",
       "      <td>False</td>\n",
       "      <td>NaN</td>\n",
       "      <td>False</td>\n",
       "      <td>NaN</td>\n",
       "      <td>any</td>\n",
       "      <td>NaN</td>\n",
       "    </tr>\n",
       "    <tr>\n",
       "      <th>2</th>\n",
       "      <td>6743</td>\n",
       "      <td>3149886</td>\n",
       "      <td>NaN</td>\n",
       "      <td>NaN</td>\n",
       "      <td>0</td>\n",
       "      <td>united states</td>\n",
       "      <td>California 25th District</td>\n",
       "      <td>NaN</td>\n",
       "      <td>False</td>\n",
       "      <td>NaN</td>\n",
       "      <td>False</td>\n",
       "      <td>NaN</td>\n",
       "      <td>any</td>\n",
       "      <td>NaN</td>\n",
       "    </tr>\n",
       "    <tr>\n",
       "      <th>3</th>\n",
       "      <td>3698</td>\n",
       "      <td>573475</td>\n",
       "      <td>NaN</td>\n",
       "      <td>NaN</td>\n",
       "      <td>18</td>\n",
       "      <td>united states</td>\n",
       "      <td>NaN</td>\n",
       "      <td>NaN</td>\n",
       "      <td>True</td>\n",
       "      <td>NaN</td>\n",
       "      <td>False</td>\n",
       "      <td>NaN</td>\n",
       "      <td>any</td>\n",
       "      <td>NaN</td>\n",
       "    </tr>\n",
       "    <tr>\n",
       "      <th>4</th>\n",
       "      <td>445</td>\n",
       "      <td>232906</td>\n",
       "      <td>NaN</td>\n",
       "      <td>NaN</td>\n",
       "      <td>25</td>\n",
       "      <td>united kingdom</td>\n",
       "      <td>NaN</td>\n",
       "      <td>NaN</td>\n",
       "      <td>True</td>\n",
       "      <td>NaN</td>\n",
       "      <td>False</td>\n",
       "      <td>NaN</td>\n",
       "      <td>any</td>\n",
       "      <td>NaN</td>\n",
       "    </tr>\n",
       "  </tbody>\n",
       "</table>\n",
       "</div>"
      ],
      "text/plain": [
       "   Spend  Impressions CandidateBallotInformation Gender  AgeBracket  \\\n",
       "0   1044       137185                        NaN    NaN          35   \n",
       "1    279        94161                        NaN    NaN          18   \n",
       "2   6743      3149886                        NaN    NaN           0   \n",
       "3   3698       573475                        NaN    NaN          18   \n",
       "4    445       232906                        NaN    NaN          25   \n",
       "\n",
       "      CountryCode       ElectoralDistrictID MetroID  Interests OsType  \\\n",
       "0   united states                       NaN     NaN       True    NaN   \n",
       "1   united states                       NaN     NaN      False    NaN   \n",
       "2   united states  California 25th District     NaN      False    NaN   \n",
       "3   united states                       NaN     NaN       True    NaN   \n",
       "4  united kingdom                       NaN     NaN       True    NaN   \n",
       "\n",
       "   Segments LocationType Language AdvancedDemographics  \n",
       "0     False          NaN      any                  NaN  \n",
       "1     False          NaN      any                  NaN  \n",
       "2     False          NaN      any                  NaN  \n",
       "3     False          NaN      any                  NaN  \n",
       "4     False          NaN      any                  NaN  "
      ]
     },
     "execution_count": 16,
     "metadata": {},
     "output_type": "execute_result"
    }
   ],
   "source": [
    "ad_data.head()"
   ]
  },
  {
   "cell_type": "markdown",
   "metadata": {},
   "source": [
    "Get the remaining column names to select when building the pipeline."
   ]
  },
  {
   "cell_type": "code",
   "execution_count": 17,
   "metadata": {},
   "outputs": [
    {
     "data": {
      "text/plain": [
       "Index(['Spend', 'Impressions', 'CandidateBallotInformation', 'Gender',\n",
       "       'AgeBracket', 'CountryCode', 'ElectoralDistrictID', 'MetroID',\n",
       "       'Interests', 'OsType', 'Segments', 'LocationType', 'Language',\n",
       "       'AdvancedDemographics'],\n",
       "      dtype='object')"
      ]
     },
     "execution_count": 17,
     "metadata": {},
     "output_type": "execute_result"
    }
   ],
   "source": [
    "rel_cols = ad_data.columns\n",
    "rel_cols"
   ]
  },
  {
   "cell_type": "code",
   "execution_count": 18,
   "metadata": {},
   "outputs": [],
   "source": [
    "X = ad_data.drop(['Impressions'], axis=1)\n",
    "y = ad_data.Impressions\n",
    "\n",
    "cat_cols = ['CountryCode', 'AgeBracket', 'Language', 'CandidateBallotInformation', 'Gender', 'ElectoralDistrictID', 'MetroID', \n",
    "             'OsType', 'LocationType', 'AdvancedDemographics', 'Interests', 'Segments']\n",
    "num_cols = ['Spend']"
   ]
  },
  {
   "cell_type": "code",
   "execution_count": null,
   "metadata": {},
   "outputs": [],
   "source": []
  },
  {
   "cell_type": "code",
   "execution_count": 22,
   "metadata": {},
   "outputs": [],
   "source": [
    "cats = Pipeline([\n",
    "    ('impute', SimpleImputer(strategy='constant', fill_value='NULL')),\n",
    "    ('ohe', OneHotEncoder(handle_unknown='ignore', sparse=False)),\n",
    "    ('pca', PCA(svd_solver='full', n_components=0.95))\n",
    "])\n",
    "\n",
    "ct = ColumnTransformer([\n",
    "    ('cat_cols', cats, cat_cols),\n",
    "#     ('num_cols', StandardScaler(), num_cols),\n",
    "     ('num_cols', SimpleImputer(strategy='constant', fill_value=0), num_cols)\n",
    "], remainder='passthrough')\n",
    "\n",
    "\n",
    "\n",
    "reg = RandomForestRegressor(n_estimators=100)\n",
    "\n",
    "\n",
    "pl = Pipeline([('feats', ct), ('reg', reg)])"
   ]
  },
  {
   "cell_type": "code",
   "execution_count": 23,
   "metadata": {},
   "outputs": [
    {
     "data": {
      "text/plain": [
       "0.7013853601909067"
      ]
     },
     "execution_count": 23,
     "metadata": {},
     "output_type": "execute_result"
    }
   ],
   "source": [
    "# separate the data into training (70%) and testing (30%) sets\n",
    "X_tr, X_ts, y_tr, y_ts = train_test_split(X, y, test_size=0.3)\n",
    "\n",
    "# fit the model to the training set\n",
    "pl.fit(X_tr, y_tr)\n",
    "\n",
    "# calculate the score using the test set\n",
    "pl.score(X_ts, y_ts)"
   ]
  },
  {
   "cell_type": "code",
   "execution_count": 26,
   "metadata": {},
   "outputs": [],
   "source": [
    "output = []\n",
    "for _ in range(100):\n",
    "    # \n",
    "    X_tr, X_ts, y_tr, y_ts = train_test_split(X, y, test_size=0.3)\n",
    "\n",
    "    pl.fit(X_tr, y_tr)\n",
    "    output.append(pl.score(X_ts, y_ts))\n"
   ]
  },
  {
   "cell_type": "code",
   "execution_count": 27,
   "metadata": {},
   "outputs": [
    {
     "data": {
      "text/plain": [
       "<matplotlib.axes._subplots.AxesSubplot at 0x16253413b38>"
      ]
     },
     "execution_count": 27,
     "metadata": {},
     "output_type": "execute_result"
    },
    {
     "data": {
      "image/png": "[encoded data removed]",
      "text/plain": [
       "<Figure size 432x288 with 1 Axes>"
      ]
     },
     "metadata": {
      "image/png": {
       "height": 263,
       "width": 384
      }
     },
     "output_type": "display_data"
    }
   ],
   "source": [
    "scores = pd.Series(output)\n",
    "scores.plot(kind='hist', title='positive scores in model builds')"
   ]
  },
  {
   "cell_type": "code",
   "execution_count": 28,
   "metadata": {},
   "outputs": [
    {
     "name": "stdout",
     "output_type": "stream",
     "text": [
      "median score: 0.5469341623779045\n"
     ]
    },
    {
     "data": {
      "image/png": "[encoded data removed]",
      "text/plain": [
       "<Figure size 432x288 with 1 Axes>"
      ]
     },
     "metadata": {
      "image/png": {
       "height": 263,
       "width": 384
      }
     },
     "output_type": "display_data"
    }
   ],
   "source": [
    "scores[scores>0].plot(kind='hist', title='positive scores in model builds')\n",
    "print('median score:', scores.median())"
   ]
  },
  {
   "cell_type": "markdown",
   "metadata": {},
   "source": [
    "So far, we have tried using Linear Regression and Random Forest Regression. We will now test other regressors and compare to find the model with the best performance."
   ]
  },
  {
   "cell_type": "code",
   "execution_count": null,
   "metadata": {},
   "outputs": [],
   "source": [
    "# list of regression models to test\n",
    "regs = [LinearRegression(), KNeighborsRegressor(3), SVC(kernel=\"rbf\", C=0.025, probability=True),\n",
    "    NuSVC(probability=True), DecisionTreeRegressor(), RandomForestRegressor(), AdaBoostRegressor(),\n",
    "    GradientBoostingRegressor()\n",
    "]\n",
    "\n",
    "# test each model\n",
    "for reg in regs:\n",
    "    # use the column transformer we already defined\n",
    "    pl = Pipeline(steps=[('column transformer', ct),\n",
    "                      ('reg', reg)])\n",
    "    pl.fit(X_tr, y_tr)   \n",
    "    print(reg)\n",
    "    print(\"model score: %.3f\" % pl.score(X_ts, y_ts))"
   ]
  },
  {
   "cell_type": "markdown",
   "metadata": {},
   "source": [
    "We can see that the model with the best performance is the Linear Regression model by far, with a score of .813. "
   ]
  },
  {
   "cell_type": "markdown",
   "metadata": {},
   "source": [
    "### Final Model"
   ]
  },
  {
   "cell_type": "code",
   "execution_count": 18,
   "metadata": {},
   "outputs": [
    {
     "data": {
      "text/html": [
       "<div>\n",
       "<style scoped>\n",
       "    .dataframe tbody tr th:only-of-type {\n",
       "        vertical-align: middle;\n",
       "    }\n",
       "\n",
       "    .dataframe tbody tr th {\n",
       "        vertical-align: top;\n",
       "    }\n",
       "\n",
       "    .dataframe thead th {\n",
       "        text-align: right;\n",
       "    }\n",
       "</style>\n",
       "<table border=\"1\" class=\"dataframe\">\n",
       "  <thead>\n",
       "    <tr style=\"text-align: right;\">\n",
       "      <th></th>\n",
       "      <th>Spend</th>\n",
       "      <th>Impressions</th>\n",
       "      <th>CandidateBallotInformation</th>\n",
       "      <th>Gender</th>\n",
       "      <th>AgeBracket</th>\n",
       "      <th>CountryCode</th>\n",
       "      <th>ElectoralDistrictID</th>\n",
       "      <th>MetroID</th>\n",
       "      <th>Interests</th>\n",
       "      <th>OsType</th>\n",
       "      <th>Segments</th>\n",
       "      <th>LocationType</th>\n",
       "      <th>Language</th>\n",
       "      <th>AdvancedDemographics</th>\n",
       "    </tr>\n",
       "  </thead>\n",
       "  <tbody>\n",
       "    <tr>\n",
       "      <th>0</th>\n",
       "      <td>1044</td>\n",
       "      <td>137185</td>\n",
       "      <td>NaN</td>\n",
       "      <td>NaN</td>\n",
       "      <td>35++</td>\n",
       "      <td>united states</td>\n",
       "      <td>NaN</td>\n",
       "      <td>NaN</td>\n",
       "      <td>NaN</td>\n",
       "      <td>NaN</td>\n",
       "      <td>Provided by Advertiser</td>\n",
       "      <td>NaN</td>\n",
       "      <td>NaN</td>\n",
       "      <td>NaN</td>\n",
       "    </tr>\n",
       "    <tr>\n",
       "      <th>1</th>\n",
       "      <td>279</td>\n",
       "      <td>94161</td>\n",
       "      <td>NaN</td>\n",
       "      <td>NaN</td>\n",
       "      <td>18+</td>\n",
       "      <td>united states</td>\n",
       "      <td>NaN</td>\n",
       "      <td>NaN</td>\n",
       "      <td>Arts &amp; Culture Mavens,Chat Fiction Enthusiasts...</td>\n",
       "      <td>NaN</td>\n",
       "      <td>Provided by Advertiser</td>\n",
       "      <td>NaN</td>\n",
       "      <td>NaN</td>\n",
       "      <td>NaN</td>\n",
       "    </tr>\n",
       "    <tr>\n",
       "      <th>2</th>\n",
       "      <td>6743</td>\n",
       "      <td>3149886</td>\n",
       "      <td>NaN</td>\n",
       "      <td>NaN</td>\n",
       "      <td>NaN</td>\n",
       "      <td>united states</td>\n",
       "      <td>California 25th District</td>\n",
       "      <td>NaN</td>\n",
       "      <td>TV Live Event Viewers (The Academy Awards),TV ...</td>\n",
       "      <td>NaN</td>\n",
       "      <td>Provided by Advertiser</td>\n",
       "      <td>NaN</td>\n",
       "      <td>NaN</td>\n",
       "      <td>NaN</td>\n",
       "    </tr>\n",
       "    <tr>\n",
       "      <th>3</th>\n",
       "      <td>3698</td>\n",
       "      <td>573475</td>\n",
       "      <td>NaN</td>\n",
       "      <td>NaN</td>\n",
       "      <td>18+</td>\n",
       "      <td>united states</td>\n",
       "      <td>NaN</td>\n",
       "      <td>NaN</td>\n",
       "      <td>NaN</td>\n",
       "      <td>NaN</td>\n",
       "      <td>Provided by Advertiser</td>\n",
       "      <td>NaN</td>\n",
       "      <td>NaN</td>\n",
       "      <td>NaN</td>\n",
       "    </tr>\n",
       "    <tr>\n",
       "      <th>4</th>\n",
       "      <td>445</td>\n",
       "      <td>232906</td>\n",
       "      <td>NaN</td>\n",
       "      <td>NaN</td>\n",
       "      <td>25+</td>\n",
       "      <td>united kingdom</td>\n",
       "      <td>NaN</td>\n",
       "      <td>NaN</td>\n",
       "      <td>NaN</td>\n",
       "      <td>NaN</td>\n",
       "      <td>Provided by Advertiser</td>\n",
       "      <td>NaN</td>\n",
       "      <td>NaN</td>\n",
       "      <td>NaN</td>\n",
       "    </tr>\n",
       "  </tbody>\n",
       "</table>\n",
       "</div>"
      ],
      "text/plain": [
       "   Spend  Impressions CandidateBallotInformation Gender AgeBracket  \\\n",
       "0   1044       137185                        NaN    NaN       35++   \n",
       "1    279        94161                        NaN    NaN        18+   \n",
       "2   6743      3149886                        NaN    NaN        NaN   \n",
       "3   3698       573475                        NaN    NaN        18+   \n",
       "4    445       232906                        NaN    NaN        25+   \n",
       "\n",
       "      CountryCode       ElectoralDistrictID MetroID  \\\n",
       "0   united states                       NaN     NaN   \n",
       "1   united states                       NaN     NaN   \n",
       "2   united states  California 25th District     NaN   \n",
       "3   united states                       NaN     NaN   \n",
       "4  united kingdom                       NaN     NaN   \n",
       "\n",
       "                                           Interests OsType  \\\n",
       "0                                                NaN    NaN   \n",
       "1  Arts & Culture Mavens,Chat Fiction Enthusiasts...    NaN   \n",
       "2  TV Live Event Viewers (The Academy Awards),TV ...    NaN   \n",
       "3                                                NaN    NaN   \n",
       "4                                                NaN    NaN   \n",
       "\n",
       "                 Segments LocationType Language AdvancedDemographics  \n",
       "0  Provided by Advertiser          NaN      NaN                  NaN  \n",
       "1  Provided by Advertiser          NaN      NaN                  NaN  \n",
       "2  Provided by Advertiser          NaN      NaN                  NaN  \n",
       "3  Provided by Advertiser          NaN      NaN                  NaN  \n",
       "4  Provided by Advertiser          NaN      NaN                  NaN  "
      ]
     },
     "execution_count": 18,
     "metadata": {},
     "output_type": "execute_result"
    }
   ],
   "source": [
    "# select the relevant columns\n",
    "data = orig_data[rel_cols]\n",
    "data.head()"
   ]
  },
  {
   "cell_type": "markdown",
   "metadata": {},
   "source": [
    "#### Building The Pipeline"
   ]
  },
  {
   "cell_type": "code",
   "execution_count": 19,
   "metadata": {},
   "outputs": [],
   "source": [
    "# separate feature and target data\n",
    "X = data.drop(['Impressions'], axis=1)\n",
    "y = data.Impressions\n",
    "\n",
    "\n",
    "# define columns\n",
    "\n",
    "# columns to convert to booleans\n",
    "bool_cols = ['CandidateBallotInformation', 'Gender', 'ElectoralDistrictID', 'MetroID', \n",
    "             'OsType', 'LocationType', 'AdvancedDemographics', 'Interests', 'Segments']\n",
    "\n",
    "cat_cols = ['CountryCode', 'AgeBracket', 'Language']\n",
    "num_cols = ['Spend']"
   ]
  },
  {
   "cell_type": "code",
   "execution_count": 20,
   "metadata": {},
   "outputs": [],
   "source": [
    "# adjust language\n",
    "# get value counts\n",
    "vc = X['Language'].value_counts()\n",
    "# replace entries that occur < 50 times with 'other'\n",
    "X.Language = X.Language.replace(vc[vc < 50].index, 'other')\n",
    "\n",
    "# replace null entries with 'any'\n",
    "X.Language = X.Language.fillna('any')"
   ]
  },
  {
   "cell_type": "code",
   "execution_count": 21,
   "metadata": {},
   "outputs": [],
   "source": [
    "# convert certain columns to booleans\n",
    "for col in bool_cols:\n",
    "    X[col] = X[col].isna()"
   ]
  },
  {
   "cell_type": "code",
   "execution_count": 22,
   "metadata": {},
   "outputs": [],
   "source": [
    "# adjust age bracket\n",
    "X.AgeBracket = (\n",
    "    X.AgeBracket.str.replace('[^\\d]+\\d*', '')\n",
    "    # impute null values with 0, because these ads are agnostic to age\n",
    "    .fillna(0)\n",
    "    # convert data type from object to integer\n",
    "    .astype('int32')\n",
    ")"
   ]
  },
  {
   "cell_type": "markdown",
   "metadata": {},
   "source": [
    "After some testing, the best model found was the linear regression model."
   ]
  },
  {
   "cell_type": "code",
   "execution_count": 50,
   "metadata": {},
   "outputs": [],
   "source": [
    "# create pipeline\n",
    "\n",
    "cats = Pipeline([\n",
    "    ('impute', SimpleImputer(strategy='constant', fill_value='NULL')),\n",
    "    ('ohe', OneHotEncoder(handle_unknown='ignore', sparse=False)),\n",
    "    ('pca', PCA(svd_solver='full', n_components=.9))\n",
    "])\n",
    "\n",
    "ct = ColumnTransformer([\n",
    "    ('cat_cols', cats, cat_cols+bool_cols),\n",
    "    ('num_cols', SimpleImputer(strategy='constant', fill_value=0), num_cols)\n",
    "], remainder='passthrough')\n",
    "\n",
    "reg = LinearRegression()\n",
    "\n",
    "pl = Pipeline([('feats', ct), ('reg', reg)])"
   ]
  },
  {
   "cell_type": "code",
   "execution_count": 51,
   "metadata": {},
   "outputs": [
    {
     "data": {
      "text/plain": [
       "0.6090304011960644"
      ]
     },
     "execution_count": 51,
     "metadata": {},
     "output_type": "execute_result"
    }
   ],
   "source": [
    "# separate the data into training (70%) and testing (30%) sets\n",
    "X_tr, X_ts, y_tr, y_ts = train_test_split(X, y, test_size=0.3)\n",
    "\n",
    "# fit the model to the training set\n",
    "pl.fit(X_tr, y_tr)\n",
    "\n",
    "# get predicted values\n",
    "pred = pl.predict(X_ts)\n",
    "\n",
    "# calculate the score using the test set\n",
    "pl.score(X_ts, y_ts)"
   ]
  },
  {
   "cell_type": "code",
   "execution_count": 52,
   "metadata": {},
   "outputs": [
    {
     "data": {
      "text/plain": [
       "2600779.1436384353"
      ]
     },
     "execution_count": 52,
     "metadata": {},
     "output_type": "execute_result"
    }
   ],
   "source": [
    "# calculate the rmse\n",
    "np.sqrt(np.mean((pred - y_ts)**2))"
   ]
  },
  {
   "cell_type": "code",
   "execution_count": 53,
   "metadata": {},
   "outputs": [
    {
     "data": {
      "text/plain": [
       "<matplotlib.axes._subplots.AxesSubplot at 0x25681aecba8>"
      ]
     },
     "execution_count": 53,
     "metadata": {},
     "output_type": "execute_result"
    },
    {
     "data": {
      "image/png": "[encoded data removed]",
      "text/plain": [
       "<Figure size 432x288 with 1 Axes>"
      ]
     },
     "metadata": {
      "image/png": {
       "height": 263,
       "width": 390
      }
     },
     "output_type": "display_data"
    }
   ],
   "source": [
    "# lin reg\n",
    "output = []\n",
    "rmses = []\n",
    "for _ in range(500):\n",
    "    X_tr, X_ts, y_tr, y_ts = train_test_split(X, y, test_size=0.3)\n",
    "\n",
    "    pl.fit(X_tr, y_tr)\n",
    "    output.append(pl.score(X_ts, y_ts))\n",
    "\n",
    "scores = pd.Series(output)\n",
    "scores.plot(kind='hist', title='positive scores in model builds')"
   ]
  },
  {
   "cell_type": "code",
   "execution_count": 54,
   "metadata": {},
   "outputs": [
    {
     "name": "stdout",
     "output_type": "stream",
     "text": [
      "median score: 0.6021655324327034\n"
     ]
    },
    {
     "data": {
      "image/png": "[encoded data removed]",
      "text/plain": [
       "<Figure size 432x288 with 1 Axes>"
      ]
     },
     "metadata": {
      "image/png": {
       "height": 263,
       "width": 384
      }
     },
     "output_type": "display_data"
    }
   ],
   "source": [
    "scores[scores>0].plot(kind='hist', title='positive scores in model builds')\n",
    "print('median score:', scores.median())"
   ]
  },
  {
   "cell_type": "markdown",
   "metadata": {},
   "source": [
    "From 500 tests, the median score is around .6, which is an improvement to the baseline model's score of about 0.52"
   ]
  },
  {
   "cell_type": "code",
   "execution_count": null,
   "metadata": {},
   "outputs": [],
   "source": []
  },
  {
   "cell_type": "markdown",
   "metadata": {},
   "source": [
    "### Fairness Evaluation"
   ]
  },
  {
   "cell_type": "markdown",
   "metadata": {},
   "source": [
    "To assess the fairness, we will examine the the test data set and the model's predictions."
   ]
  },
  {
   "cell_type": "code",
   "execution_count": 55,
   "metadata": {
    "scrolled": true
   },
   "outputs": [
    {
     "data": {
      "text/html": [
       "<div>\n",
       "<style scoped>\n",
       "    .dataframe tbody tr th:only-of-type {\n",
       "        vertical-align: middle;\n",
       "    }\n",
       "\n",
       "    .dataframe tbody tr th {\n",
       "        vertical-align: top;\n",
       "    }\n",
       "\n",
       "    .dataframe thead th {\n",
       "        text-align: right;\n",
       "    }\n",
       "</style>\n",
       "<table border=\"1\" class=\"dataframe\">\n",
       "  <thead>\n",
       "    <tr style=\"text-align: right;\">\n",
       "      <th></th>\n",
       "      <th>Spend</th>\n",
       "      <th>CandidateBallotInformation</th>\n",
       "      <th>Gender</th>\n",
       "      <th>AgeBracket</th>\n",
       "      <th>CountryCode</th>\n",
       "      <th>ElectoralDistrictID</th>\n",
       "      <th>MetroID</th>\n",
       "      <th>Interests</th>\n",
       "      <th>OsType</th>\n",
       "      <th>Segments</th>\n",
       "      <th>LocationType</th>\n",
       "      <th>Language</th>\n",
       "      <th>AdvancedDemographics</th>\n",
       "    </tr>\n",
       "  </thead>\n",
       "  <tbody>\n",
       "    <tr>\n",
       "      <th>3136</th>\n",
       "      <td>12</td>\n",
       "      <td>True</td>\n",
       "      <td>True</td>\n",
       "      <td>18</td>\n",
       "      <td>netherlands</td>\n",
       "      <td>True</td>\n",
       "      <td>True</td>\n",
       "      <td>False</td>\n",
       "      <td>True</td>\n",
       "      <td>False</td>\n",
       "      <td>True</td>\n",
       "      <td>other</td>\n",
       "      <td>True</td>\n",
       "    </tr>\n",
       "    <tr>\n",
       "      <th>2494</th>\n",
       "      <td>13</td>\n",
       "      <td>True</td>\n",
       "      <td>True</td>\n",
       "      <td>17</td>\n",
       "      <td>norway</td>\n",
       "      <td>True</td>\n",
       "      <td>False</td>\n",
       "      <td>True</td>\n",
       "      <td>True</td>\n",
       "      <td>False</td>\n",
       "      <td>True</td>\n",
       "      <td>any</td>\n",
       "      <td>True</td>\n",
       "    </tr>\n",
       "    <tr>\n",
       "      <th>2588</th>\n",
       "      <td>8</td>\n",
       "      <td>True</td>\n",
       "      <td>True</td>\n",
       "      <td>18</td>\n",
       "      <td>united states</td>\n",
       "      <td>False</td>\n",
       "      <td>True</td>\n",
       "      <td>True</td>\n",
       "      <td>True</td>\n",
       "      <td>False</td>\n",
       "      <td>True</td>\n",
       "      <td>any</td>\n",
       "      <td>False</td>\n",
       "    </tr>\n",
       "    <tr>\n",
       "      <th>3143</th>\n",
       "      <td>4706</td>\n",
       "      <td>True</td>\n",
       "      <td>True</td>\n",
       "      <td>23</td>\n",
       "      <td>france</td>\n",
       "      <td>True</td>\n",
       "      <td>True</td>\n",
       "      <td>True</td>\n",
       "      <td>True</td>\n",
       "      <td>True</td>\n",
       "      <td>True</td>\n",
       "      <td>fr</td>\n",
       "      <td>True</td>\n",
       "    </tr>\n",
       "    <tr>\n",
       "      <th>350</th>\n",
       "      <td>196</td>\n",
       "      <td>True</td>\n",
       "      <td>True</td>\n",
       "      <td>18</td>\n",
       "      <td>united states</td>\n",
       "      <td>True</td>\n",
       "      <td>True</td>\n",
       "      <td>True</td>\n",
       "      <td>True</td>\n",
       "      <td>True</td>\n",
       "      <td>True</td>\n",
       "      <td>en</td>\n",
       "      <td>True</td>\n",
       "    </tr>\n",
       "  </tbody>\n",
       "</table>\n",
       "</div>"
      ],
      "text/plain": [
       "      Spend  CandidateBallotInformation  Gender  AgeBracket    CountryCode  \\\n",
       "3136     12                        True    True          18    netherlands   \n",
       "2494     13                        True    True          17         norway   \n",
       "2588      8                        True    True          18  united states   \n",
       "3143   4706                        True    True          23         france   \n",
       "350     196                        True    True          18  united states   \n",
       "\n",
       "      ElectoralDistrictID  MetroID  Interests  OsType  Segments  LocationType  \\\n",
       "3136                 True     True      False    True     False          True   \n",
       "2494                 True    False       True    True     False          True   \n",
       "2588                False     True       True    True     False          True   \n",
       "3143                 True     True       True    True      True          True   \n",
       "350                  True     True       True    True      True          True   \n",
       "\n",
       "     Language  AdvancedDemographics  \n",
       "3136    other                  True  \n",
       "2494      any                  True  \n",
       "2588      any                 False  \n",
       "3143       fr                  True  \n",
       "350        en                  True  "
      ]
     },
     "execution_count": 55,
     "metadata": {},
     "output_type": "execute_result"
    }
   ],
   "source": [
    "# test set feature data\n",
    "X_ts.head()"
   ]
  },
  {
   "cell_type": "markdown",
   "metadata": {},
   "source": [
    "Combine the feature data with the target data and predictions"
   ]
  },
  {
   "cell_type": "code",
   "execution_count": 56,
   "metadata": {},
   "outputs": [
    {
     "data": {
      "text/html": [
       "<div>\n",
       "<style scoped>\n",
       "    .dataframe tbody tr th:only-of-type {\n",
       "        vertical-align: middle;\n",
       "    }\n",
       "\n",
       "    .dataframe tbody tr th {\n",
       "        vertical-align: top;\n",
       "    }\n",
       "\n",
       "    .dataframe thead th {\n",
       "        text-align: right;\n",
       "    }\n",
       "</style>\n",
       "<table border=\"1\" class=\"dataframe\">\n",
       "  <thead>\n",
       "    <tr style=\"text-align: right;\">\n",
       "      <th></th>\n",
       "      <th>Spend</th>\n",
       "      <th>CandidateBallotInformation</th>\n",
       "      <th>Gender</th>\n",
       "      <th>AgeBracket</th>\n",
       "      <th>CountryCode</th>\n",
       "      <th>ElectoralDistrictID</th>\n",
       "      <th>MetroID</th>\n",
       "      <th>Interests</th>\n",
       "      <th>OsType</th>\n",
       "      <th>Segments</th>\n",
       "      <th>LocationType</th>\n",
       "      <th>Language</th>\n",
       "      <th>AdvancedDemographics</th>\n",
       "      <th>Impressions</th>\n",
       "      <th>pred</th>\n",
       "    </tr>\n",
       "  </thead>\n",
       "  <tbody>\n",
       "    <tr>\n",
       "      <th>3136</th>\n",
       "      <td>12</td>\n",
       "      <td>True</td>\n",
       "      <td>True</td>\n",
       "      <td>18</td>\n",
       "      <td>netherlands</td>\n",
       "      <td>True</td>\n",
       "      <td>True</td>\n",
       "      <td>False</td>\n",
       "      <td>True</td>\n",
       "      <td>False</td>\n",
       "      <td>True</td>\n",
       "      <td>other</td>\n",
       "      <td>True</td>\n",
       "      <td>11069</td>\n",
       "      <td>480250.061881</td>\n",
       "    </tr>\n",
       "    <tr>\n",
       "      <th>2494</th>\n",
       "      <td>13</td>\n",
       "      <td>True</td>\n",
       "      <td>True</td>\n",
       "      <td>17</td>\n",
       "      <td>norway</td>\n",
       "      <td>True</td>\n",
       "      <td>False</td>\n",
       "      <td>True</td>\n",
       "      <td>True</td>\n",
       "      <td>False</td>\n",
       "      <td>True</td>\n",
       "      <td>any</td>\n",
       "      <td>True</td>\n",
       "      <td>2313</td>\n",
       "      <td>639288.107864</td>\n",
       "    </tr>\n",
       "    <tr>\n",
       "      <th>2588</th>\n",
       "      <td>8</td>\n",
       "      <td>True</td>\n",
       "      <td>True</td>\n",
       "      <td>18</td>\n",
       "      <td>united states</td>\n",
       "      <td>False</td>\n",
       "      <td>True</td>\n",
       "      <td>True</td>\n",
       "      <td>True</td>\n",
       "      <td>False</td>\n",
       "      <td>True</td>\n",
       "      <td>any</td>\n",
       "      <td>False</td>\n",
       "      <td>2007</td>\n",
       "      <td>110162.974941</td>\n",
       "    </tr>\n",
       "    <tr>\n",
       "      <th>3143</th>\n",
       "      <td>4706</td>\n",
       "      <td>True</td>\n",
       "      <td>True</td>\n",
       "      <td>23</td>\n",
       "      <td>france</td>\n",
       "      <td>True</td>\n",
       "      <td>True</td>\n",
       "      <td>True</td>\n",
       "      <td>True</td>\n",
       "      <td>True</td>\n",
       "      <td>True</td>\n",
       "      <td>fr</td>\n",
       "      <td>True</td>\n",
       "      <td>9162404</td>\n",
       "      <td>523320.993852</td>\n",
       "    </tr>\n",
       "    <tr>\n",
       "      <th>350</th>\n",
       "      <td>196</td>\n",
       "      <td>True</td>\n",
       "      <td>True</td>\n",
       "      <td>18</td>\n",
       "      <td>united states</td>\n",
       "      <td>True</td>\n",
       "      <td>True</td>\n",
       "      <td>True</td>\n",
       "      <td>True</td>\n",
       "      <td>True</td>\n",
       "      <td>True</td>\n",
       "      <td>en</td>\n",
       "      <td>True</td>\n",
       "      <td>65718</td>\n",
       "      <td>640926.616693</td>\n",
       "    </tr>\n",
       "  </tbody>\n",
       "</table>\n",
       "</div>"
      ],
      "text/plain": [
       "      Spend  CandidateBallotInformation  Gender  AgeBracket    CountryCode  \\\n",
       "3136     12                        True    True          18    netherlands   \n",
       "2494     13                        True    True          17         norway   \n",
       "2588      8                        True    True          18  united states   \n",
       "3143   4706                        True    True          23         france   \n",
       "350     196                        True    True          18  united states   \n",
       "\n",
       "      ElectoralDistrictID  MetroID  Interests  OsType  Segments  LocationType  \\\n",
       "3136                 True     True      False    True     False          True   \n",
       "2494                 True    False       True    True     False          True   \n",
       "2588                False     True       True    True     False          True   \n",
       "3143                 True     True       True    True      True          True   \n",
       "350                  True     True       True    True      True          True   \n",
       "\n",
       "     Language  AdvancedDemographics  Impressions           pred  \n",
       "3136    other                  True        11069  480250.061881  \n",
       "2494      any                  True         2313  639288.107864  \n",
       "2588      any                 False         2007  110162.974941  \n",
       "3143       fr                  True      9162404  523320.993852  \n",
       "350        en                  True        65718  640926.616693  "
      ]
     },
     "execution_count": 56,
     "metadata": {},
     "output_type": "execute_result"
    }
   ],
   "source": [
    "result_data = pd.concat([X_ts, pd.DataFrame({'Impressions':y_ts, 'pred':pred})], sort=False, axis=1)\n",
    "result_data.head()"
   ]
  },
  {
   "cell_type": "markdown",
   "metadata": {},
   "source": [
    "To analyze the fairness of our regression model, we will look at the root mean squared error well specific demographics. To do this, it will be convenient to have a column of each ad's squared error."
   ]
  },
  {
   "cell_type": "code",
   "execution_count": 57,
   "metadata": {},
   "outputs": [
    {
     "data": {
      "text/html": [
       "<div>\n",
       "<style scoped>\n",
       "    .dataframe tbody tr th:only-of-type {\n",
       "        vertical-align: middle;\n",
       "    }\n",
       "\n",
       "    .dataframe tbody tr th {\n",
       "        vertical-align: top;\n",
       "    }\n",
       "\n",
       "    .dataframe thead th {\n",
       "        text-align: right;\n",
       "    }\n",
       "</style>\n",
       "<table border=\"1\" class=\"dataframe\">\n",
       "  <thead>\n",
       "    <tr style=\"text-align: right;\">\n",
       "      <th></th>\n",
       "      <th>Spend</th>\n",
       "      <th>CandidateBallotInformation</th>\n",
       "      <th>Gender</th>\n",
       "      <th>AgeBracket</th>\n",
       "      <th>CountryCode</th>\n",
       "      <th>ElectoralDistrictID</th>\n",
       "      <th>MetroID</th>\n",
       "      <th>Interests</th>\n",
       "      <th>OsType</th>\n",
       "      <th>Segments</th>\n",
       "      <th>LocationType</th>\n",
       "      <th>Language</th>\n",
       "      <th>AdvancedDemographics</th>\n",
       "      <th>Impressions</th>\n",
       "      <th>pred</th>\n",
       "      <th>sq_error</th>\n",
       "    </tr>\n",
       "  </thead>\n",
       "  <tbody>\n",
       "    <tr>\n",
       "      <th>3136</th>\n",
       "      <td>12</td>\n",
       "      <td>True</td>\n",
       "      <td>True</td>\n",
       "      <td>18</td>\n",
       "      <td>netherlands</td>\n",
       "      <td>True</td>\n",
       "      <td>True</td>\n",
       "      <td>False</td>\n",
       "      <td>True</td>\n",
       "      <td>False</td>\n",
       "      <td>True</td>\n",
       "      <td>other</td>\n",
       "      <td>True</td>\n",
       "      <td>11069</td>\n",
       "      <td>480250.061881</td>\n",
       "      <td>2.201309e+11</td>\n",
       "    </tr>\n",
       "    <tr>\n",
       "      <th>2494</th>\n",
       "      <td>13</td>\n",
       "      <td>True</td>\n",
       "      <td>True</td>\n",
       "      <td>17</td>\n",
       "      <td>norway</td>\n",
       "      <td>True</td>\n",
       "      <td>False</td>\n",
       "      <td>True</td>\n",
       "      <td>True</td>\n",
       "      <td>False</td>\n",
       "      <td>True</td>\n",
       "      <td>any</td>\n",
       "      <td>True</td>\n",
       "      <td>2313</td>\n",
       "      <td>639288.107864</td>\n",
       "      <td>4.057373e+11</td>\n",
       "    </tr>\n",
       "    <tr>\n",
       "      <th>2588</th>\n",
       "      <td>8</td>\n",
       "      <td>True</td>\n",
       "      <td>True</td>\n",
       "      <td>18</td>\n",
       "      <td>united states</td>\n",
       "      <td>False</td>\n",
       "      <td>True</td>\n",
       "      <td>True</td>\n",
       "      <td>True</td>\n",
       "      <td>False</td>\n",
       "      <td>True</td>\n",
       "      <td>any</td>\n",
       "      <td>False</td>\n",
       "      <td>2007</td>\n",
       "      <td>110162.974941</td>\n",
       "      <td>1.169771e+10</td>\n",
       "    </tr>\n",
       "    <tr>\n",
       "      <th>3143</th>\n",
       "      <td>4706</td>\n",
       "      <td>True</td>\n",
       "      <td>True</td>\n",
       "      <td>23</td>\n",
       "      <td>france</td>\n",
       "      <td>True</td>\n",
       "      <td>True</td>\n",
       "      <td>True</td>\n",
       "      <td>True</td>\n",
       "      <td>True</td>\n",
       "      <td>True</td>\n",
       "      <td>fr</td>\n",
       "      <td>True</td>\n",
       "      <td>9162404</td>\n",
       "      <td>523320.993852</td>\n",
       "      <td>7.463376e+13</td>\n",
       "    </tr>\n",
       "    <tr>\n",
       "      <th>350</th>\n",
       "      <td>196</td>\n",
       "      <td>True</td>\n",
       "      <td>True</td>\n",
       "      <td>18</td>\n",
       "      <td>united states</td>\n",
       "      <td>True</td>\n",
       "      <td>True</td>\n",
       "      <td>True</td>\n",
       "      <td>True</td>\n",
       "      <td>True</td>\n",
       "      <td>True</td>\n",
       "      <td>en</td>\n",
       "      <td>True</td>\n",
       "      <td>65718</td>\n",
       "      <td>640926.616693</td>\n",
       "      <td>3.308650e+11</td>\n",
       "    </tr>\n",
       "  </tbody>\n",
       "</table>\n",
       "</div>"
      ],
      "text/plain": [
       "      Spend  CandidateBallotInformation  Gender  AgeBracket    CountryCode  \\\n",
       "3136     12                        True    True          18    netherlands   \n",
       "2494     13                        True    True          17         norway   \n",
       "2588      8                        True    True          18  united states   \n",
       "3143   4706                        True    True          23         france   \n",
       "350     196                        True    True          18  united states   \n",
       "\n",
       "      ElectoralDistrictID  MetroID  Interests  OsType  Segments  LocationType  \\\n",
       "3136                 True     True      False    True     False          True   \n",
       "2494                 True    False       True    True     False          True   \n",
       "2588                False     True       True    True     False          True   \n",
       "3143                 True     True       True    True      True          True   \n",
       "350                  True     True       True    True      True          True   \n",
       "\n",
       "     Language  AdvancedDemographics  Impressions           pred      sq_error  \n",
       "3136    other                  True        11069  480250.061881  2.201309e+11  \n",
       "2494      any                  True         2313  639288.107864  4.057373e+11  \n",
       "2588      any                 False         2007  110162.974941  1.169771e+10  \n",
       "3143       fr                  True      9162404  523320.993852  7.463376e+13  \n",
       "350        en                  True        65718  640926.616693  3.308650e+11  "
      ]
     },
     "execution_count": 57,
     "metadata": {},
     "output_type": "execute_result"
    }
   ],
   "source": [
    "result_data['sq_error'] = ((result_data['Impressions'] - result_data['pred'])**2)\n",
    "result_data.head()"
   ]
  },
  {
   "cell_type": "code",
   "execution_count": 58,
   "metadata": {},
   "outputs": [
    {
     "name": "stdout",
     "output_type": "stream",
     "text": [
      "                                sq_error\n",
      "CandidateBallotInformation              \n",
      "False                       1.575894e+12\n",
      "True                        1.154577e+13\n",
      "            sq_error\n",
      "Gender              \n",
      "False   1.508569e+12\n",
      "True    1.174355e+13\n",
      "                         sq_error\n",
      "ElectoralDistrictID              \n",
      "False                3.571664e+13\n",
      "True                 1.022196e+13\n",
      "             sq_error\n",
      "MetroID              \n",
      "False    2.299004e+12\n",
      "True     1.121456e+13\n",
      "            sq_error\n",
      "OsType              \n",
      "False   1.355699e+11\n",
      "True    1.077517e+13\n",
      "                  sq_error\n",
      "LocationType              \n",
      "False         2.217597e+12\n",
      "True          1.077118e+13\n",
      "                          sq_error\n",
      "AdvancedDemographics              \n",
      "False                 1.193084e+13\n",
      "True                  1.066741e+13\n",
      "               sq_error\n",
      "Interests              \n",
      "False      6.702409e+12\n",
      "True       1.192908e+13\n",
      "              sq_error\n",
      "Segments              \n",
      "False     1.491241e+13\n",
      "True      2.217772e+12\n",
      "                    sq_error\n",
      "CountryCode                 \n",
      "argentina       2.551251e+11\n",
      "australia       3.372942e+13\n",
      "austria         1.074433e+14\n",
      "belgium         3.605998e+12\n",
      "canada          2.185782e+13\n",
      "denmark         1.135381e+12\n",
      "finland         6.843116e+11\n",
      "france          2.948166e+13\n",
      "germany         1.648174e+12\n",
      "india           7.305676e+11\n",
      "ireland         4.370263e+11\n",
      "kuwait          5.183968e+12\n",
      "lithuania       4.587029e+10\n",
      "netherlands     5.218414e+12\n",
      "new zealand     7.416674e+08\n",
      "nigeria         6.820553e+11\n",
      "norway          2.334455e+12\n",
      "poland          5.327193e+11\n",
      "puerto rico     3.364707e+10\n",
      "south africa    1.513583e+10\n",
      "sweden          2.887477e+11\n",
      "switzerland     8.325834e+10\n",
      "turkey          1.625710e+13\n",
      "united kingdom  2.308344e+12\n",
      "united states   9.518389e+12\n",
      "                sq_error\n",
      "AgeBracket              \n",
      "0           5.661388e+12\n",
      "14          3.987626e+11\n",
      "15          2.435970e+13\n",
      "16          6.558161e+13\n",
      "17          4.111942e+13\n",
      "18          7.884892e+12\n",
      "19          5.366168e+11\n",
      "20          3.334177e+12\n",
      "21          1.213397e+12\n",
      "22          3.290652e+10\n",
      "23          3.749251e+13\n",
      "24          2.462607e+12\n",
      "25          3.920416e+12\n",
      "26          1.590352e+12\n",
      "28          1.289673e+11\n",
      "30          1.062281e+12\n",
      "31          1.669042e+10\n",
      "33          2.273642e+10\n",
      "34          1.619625e+11\n",
      "35          1.080891e+12\n",
      "              sq_error\n",
      "Language              \n",
      "any       8.757534e+12\n",
      "en        1.635547e+13\n",
      "fr        4.557962e+12\n",
      "nb        3.362125e+11\n",
      "other     2.395859e+13\n"
     ]
    }
   ],
   "source": [
    "for col in bool_cols+cat_cols:\n",
    "    print(result_data[[col, 'sq_error']].groupby(col).mean())"
   ]
  },
  {
   "cell_type": "code",
   "execution_count": 68,
   "metadata": {},
   "outputs": [],
   "source": [
    "# for col in bool_cols+cat_cols:\n",
    "#     result_data[[col, 'sq_error']].groupby(col).mean().plot(kind='bar')"
   ]
  },
  {
   "cell_type": "code",
   "execution_count": 69,
   "metadata": {},
   "outputs": [],
   "source": [
    "# result_data[['Segments', 'sq_error']].groupby('Segments').mean()"
   ]
  },
  {
   "cell_type": "code",
   "execution_count": 61,
   "metadata": {},
   "outputs": [
    {
     "data": {
      "text/plain": [
       "10710756844270.656"
      ]
     },
     "execution_count": 61,
     "metadata": {},
     "output_type": "execute_result"
    }
   ],
   "source": [
    "# np.sqrt(np.mean((preds - y_ts)**2))\n",
    "result_data['sq_error'].mean()"
   ]
  },
  {
   "cell_type": "code",
   "execution_count": 67,
   "metadata": {},
   "outputs": [
    {
     "data": {
      "image/png": "[encoded data removed]",
      "text/plain": [
       "<Figure size 1440x1800 with 12 Axes>"
      ]
     },
     "metadata": {
      "image/png": {
       "height": 1483,
       "width": 1155
      }
     },
     "output_type": "display_data"
    }
   ],
   "source": [
    "fig, axes = plt.subplots(nrows=4, ncols=3, figsize=(20, 25))\n",
    "for i, col in enumerate(bool_cols+cat_cols):\n",
    "    result_data[[col, 'sq_error']].groupby(col).mean().plot(kind='bar', ax=axes[i//3, i%3])"
   ]
  },
  {
   "cell_type": "markdown",
   "metadata": {},
   "source": [
    "From these plots, we can see that most of the boolean columns are biased, but this is not surprising since many of those columns are largely null/True (~90%). However, the segments column is more balanced."
   ]
  },
  {
   "cell_type": "code",
   "execution_count": 87,
   "metadata": {},
   "outputs": [
    {
     "data": {
      "text/plain": [
       "Segments\n",
       "False    663\n",
       "True     328\n",
       "Name: Spend, dtype: int64"
      ]
     },
     "execution_count": 87,
     "metadata": {},
     "output_type": "execute_result"
    }
   ],
   "source": [
    "# display counts\n",
    "result_data.groupby('Segments').count().iloc[:, 0]"
   ]
  },
  {
   "cell_type": "markdown",
   "metadata": {},
   "source": [
    "Despite this, the ads that provide segments have much larger error than the ads that do not. To determine if this is actually bias and not chance, we will use a permutation test."
   ]
  },
  {
   "cell_type": "markdown",
   "metadata": {},
   "source": [
    "#### Use a permutation test to see if the difference in squared error can be explained by chance."
   ]
  },
  {
   "cell_type": "code",
   "execution_count": null,
   "metadata": {},
   "outputs": [],
   "source": [
    "# calculate the observed test statistic\n",
    "obs = result_data[['Segments', 'sq_error']].groupby('Segments').mean().diff().iloc[-1]\n",
    "\n",
    "sq_errors = []\n",
    "for _ in range(500):\n",
    "    s = (\n",
    "        results[['is_young', 'prediction', 'tag']]\n",
    "        .assign(is_young=results.is_young.sample(frac=1.0, replace=False).reset_index(drop=True))\n",
    "        .groupby('is_young')\n",
    "        .apply(lambda x: metrics.accuracy_score(x.tag, x.prediction))\n",
    "        .diff()\n",
    "        .iloc[-1]\n",
    "    )"
   ]
  },
  {
   "cell_type": "code",
   "execution_count": null,
   "metadata": {},
   "outputs": [],
   "source": []
  },
  {
   "cell_type": "code",
   "execution_count": null,
   "metadata": {},
   "outputs": [],
   "source": []
  },
  {
   "cell_type": "code",
   "execution_count": 848,
   "metadata": {},
   "outputs": [
    {
     "name": "stdout",
     "output_type": "stream",
     "text": [
      "median score: 0.6064735764501631\n"
     ]
    },
    {
     "data": {
      "image/png": "[encoded data removed]",
      "text/plain": [
       "<Figure size 432x288 with 1 Axes>"
      ]
     },
     "metadata": {
      "image/png": {
       "height": 263,
       "width": 384
      }
     },
     "output_type": "display_data"
    }
   ],
   "source": [
    "scores[scores>0].plot(kind='hist', title='positive scores in model builds')\n",
    "print('median score:', scores.median())"
   ]
  },
  {
   "cell_type": "code",
   "execution_count": null,
   "metadata": {},
   "outputs": [],
   "source": [
    "# decicion tree regressor:\n",
    "# {'max_depth': 7, 'min_samples_leaf': 5, 'min_samples_split': 3}\n",
    "\n",
    "# rand forest: \n",
    "# {'max_depth': 4, 'min_samples_leaf': 3, 'min_samples_split': 15}"
   ]
  },
  {
   "cell_type": "code",
   "execution_count": 589,
   "metadata": {},
   "outputs": [],
   "source": [
    "# testing dropping data with low variance or over 90% null\n",
    "orig_data.sort_values('Impressions', ascending=False).head()\n",
    "\n",
    "X_orig = orig_data.drop('Impressions', axis=1)\n",
    "y_orig = orig_data.Impressions"
   ]
  },
  {
   "cell_type": "code",
   "execution_count": 590,
   "metadata": {},
   "outputs": [],
   "source": [
    "not_na = orig_data.copy()\n",
    "not_na = not_na.drop(\n",
    "    not_na.columns[not_na.isna().mean() > .9]\n",
    "    , axis=1)"
   ]
  },
  {
   "cell_type": "code",
   "execution_count": 591,
   "metadata": {},
   "outputs": [],
   "source": [
    "X = not_na.drop(['Impressions'], axis=1)\n",
    "y = not_na.Impressions\n",
    "\n",
    "types = X.dtypes\n",
    "cat_cols = types.loc[types == np.object].index\n",
    "num_cols = types.loc[types != np.object].index"
   ]
  },
  {
   "cell_type": "code",
   "execution_count": 801,
   "metadata": {},
   "outputs": [],
   "source": [
    "cats = Pipeline([\n",
    "#     ('le', LabelEncoder()), \n",
    "    ('impute', SimpleImputer(strategy='constant', fill_value='NULL')),\n",
    "    ('ohe', OneHotEncoder(handle_unknown='ignore', sparse=False)),\n",
    "    ('pca', PCA(svd_solver='full', n_components=0.99))\n",
    "])\n",
    "\n",
    "ct = ColumnTransformer([\n",
    "    ('cat_cols', cats, cat_cols),\n",
    "    ('num_cols', SimpleImputer(strategy='constant', fill_value=0), num_cols)\n",
    "], remainder='passthrough')\n",
    "\n",
    "\n",
    "# rfr = RandomForestRegressor(n_estimators=1100,\n",
    "#                            max_depth=5,\n",
    "#                            min_samples_split=4,\n",
    "#                            min_samples_leaf=5,\n",
    "#                            n_jobs=-1)\n",
    "\n",
    "# reg = RandomForestRegressor(n_estimators=100)\n",
    "# reg = LogisticRegression()\n",
    "reg = RandomForestRegressor(n_estimators=100, max_depth= 4, min_samples_leaf = 3, min_samples_split= 15)\n",
    "\n",
    "pl = Pipeline([('feats', ct), ('reg', reg)])"
   ]
  },
  {
   "cell_type": "code",
   "execution_count": 802,
   "metadata": {},
   "outputs": [
    {
     "data": {
      "text/plain": [
       "0.5211792484472694"
      ]
     },
     "execution_count": 802,
     "metadata": {},
     "output_type": "execute_result"
    }
   ],
   "source": [
    "# separate the data into training (70%) and testing (30%) sets\n",
    "X_tr, X_ts, y_tr, y_ts = train_test_split(X, y, test_size=0.3)\n",
    "\n",
    "# fit the model to the training set\n",
    "pl.fit(X_tr, y_tr)\n",
    "\n",
    "# calculate the score using the test set\n",
    "pl.score(X_ts, y_ts)"
   ]
  },
  {
   "cell_type": "code",
   "execution_count": 803,
   "metadata": {},
   "outputs": [
    {
     "name": "stdout",
     "output_type": "stream",
     "text": [
      "median score: 0.5089216844904072\n"
     ]
    },
    {
     "data": {
      "image/png": "[encoded data removed]",
      "text/plain": [
       "<Figure size 432x288 with 1 Axes>"
      ]
     },
     "metadata": {
      "image/png": {
       "height": 263,
       "width": 384
      }
     },
     "output_type": "display_data"
    }
   ],
   "source": [
    "# lin reg\n",
    "output = []\n",
    "for _ in range(100):\n",
    "    # \n",
    "    X_tr, X_ts, y_tr, y_ts = train_test_split(X, y, test_size=0.3)\n",
    "\n",
    "    pl.fit(X_tr, y_tr)\n",
    "    output.append(pl.score(X_ts, y_ts))\n",
    "scores = pd.Series(output)\n",
    "scores.plot(kind='hist', title='positive scores in model builds')\n",
    "scores[scores>0].plot(kind='hist', title='positive scores in model builds')\n",
    "print('median score:', scores.median())"
   ]
  }
 ],
 "metadata": {
  "kernelspec": {
   "display_name": "Python 3",
   "language": "python",
   "name": "python3"
  },
  "language_info": {
   "codemirror_mode": {
    "name": "ipython",
    "version": 3
   },
   "file_extension": ".py",
   "mimetype": "text/x-python",
   "name": "python",
   "nbconvert_exporter": "python",
   "pygments_lexer": "ipython3",
   "version": "3.6.6"
  }
 },
 "nbformat": 4,
 "nbformat_minor": 2
}
